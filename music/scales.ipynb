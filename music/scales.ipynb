{
 "cells": [
  {
   "cell_type": "code",
   "execution_count": 20,
   "metadata": {},
   "outputs": [],
   "source": [
    "import pyaudio\n",
    "import numpy as np\n",
    "\n",
    "import math\n",
    "\n",
    "p = pyaudio.PyAudio()\n",
    "\n",
    "volume = 0.5     # range [0.0, 1.0]\n",
    "fs = 44100       # sampling rate, Hz, must be integer\n",
    "duration = 5.0   # in seconds, may be float "
   ]
  },
  {
   "cell_type": "code",
   "execution_count": 12,
   "metadata": {},
   "outputs": [],
   "source": [
    "def play_frequencies(p, fs, volume, freq = [440,]):\n",
    "    \"\"\"Found most of this method online at \n",
    "    https://stackoverflow.com/questions/8299303/generating-sine-wave-sound-in-python\"\"\"\n",
    "    for f in freq:\n",
    "        # generate samples, note conversion to float32 array\n",
    "        samples = (np.sin(2*np.pi*np.arange(fs*duration)*f/fs)).astype(np.float32)\n",
    "\n",
    "        # for paFloat32 sample values must be in range [-1.0, 1.0]\n",
    "        stream = p.open(format=pyaudio.paFloat32,\n",
    "                        channels=1,\n",
    "                        rate=fs,\n",
    "                        output=True)\n",
    "\n",
    "        # play. May repeat with different volume values (if done interactively) \n",
    "        stream.write(volume*samples)\n",
    "\n",
    "    stream.stop_stream()\n",
    "    stream.close()\n",
    "\n",
    "    #p.terminate()"
   ]
  },
  {
   "cell_type": "code",
   "execution_count": 23,
   "metadata": {},
   "outputs": [],
   "source": [
    "# test\n",
    "play_frequencies(p, fs, volume, freq = [300,10*300])"
   ]
  },
  {
   "cell_type": "code",
   "execution_count": 24,
   "metadata": {},
   "outputs": [],
   "source": [
    "# equal tempered scale (or how keyboard players get deceived into thinking they know something about music)\n",
    "# equations from https://pages.mtu.edu/~suits/NoteFreqCalcs.html\n",
    "\n",
    "def equal_tempered(base_frequency, halfsteps_away = [0,], halfsteps_in_a_scale = 12):\n",
    "    \"\"\"Parameters:\n",
    "            base_frequency : float\n",
    "                scale will start from this frequency, default A1 (440 Hz)\n",
    "                \n",
    "            halfsteps_away : list of integers\n",
    "                list of number of halfsteps between the resulting and the base frequency\n",
    "                \n",
    "            halfsteps_in_a_scale : integer\n",
    "                number of halfsteps between the nearest octaves\n",
    "    \"\"\"\n",
    "    frequencies = []\n",
    "    for halfstep_count in halfsteps_away:\n",
    "        freq = base_frequency * (2**(1/halfsteps_in_a_scale))**halfstep_count\n",
    "        frequencies.append(freq)\n",
    "        \n",
    "    return frequencies\n",
    "\n",
    "# just scale occurs naturally as a result of the overtone series for simple systems such as vibrating strings or air columns\n",
    "# source: https://pages.mtu.edu/~suits/scales.html\n",
    "\n",
    "def just_scale(base_frequency, halfsteps_away = [0,]):\n",
    "    \"\"\"Parameters:\n",
    "            base_frequency : float\n",
    "                scale will start from this frequency, default A1 (440 Hz)\n",
    "                \n",
    "            halfsteps_away : list of integers\n",
    "                list of number of halfsteps between the resulting and the base frequency\n",
    "    \"\"\"\n",
    "    harmonics = [\n",
    "        base_frequency * 1.,\n",
    "        base_frequency * 25./24.,\n",
    "        base_frequency * 9./8.,\n",
    "        base_frequency * 6./5.,\n",
    "        base_frequency * 5./4.,\n",
    "        base_frequency * 4./3.,\n",
    "        base_frequency * 45./32.,\n",
    "        # perfect fifth\n",
    "        base_frequency * 3./2.,\n",
    "        base_frequency * 8./5.,\n",
    "        base_frequency * 5./3.,\n",
    "        base_frequency * 9./5.,\n",
    "        base_frequency * 15./8.,\n",
    "        base_frequency * 2.,\n",
    "    ]\n",
    "    \n",
    "    frequencies = []\n",
    "    for halfstep_count in halfsteps_away:\n",
    "        freq = harmonics[halfstep_count]\n",
    "        frequencies.append(freq)\n",
    "        \n",
    "    return frequencies\n",
    "\n",
    "def perfect_fifths(base_frequency, n = 12):\n",
    "    \"\"\"I made this one up (I'm sure it already exists.)\n",
    "    \n",
    "    Parameters:\n",
    "            base_frequency : float\n",
    "                scale will start from this frequency, default A1 (440 Hz)\n",
    "                \n",
    "            n : integer, keep it at 12...\n",
    "                count of 3/2 (perfect fifths) to step through and construct the frequencies\n",
    "                for the notes that are within the same octave as the base_frequency\n",
    "    \"\"\"\n",
    "    freq = []\n",
    "    for i in range(n):\n",
    "        f = base_frequency * (3./2.)**i/(2.**int(math.log2((3/2.)**i)))\n",
    "        freq.append(f)\n",
    "        \n",
    "    if n == 12:\n",
    "        freq.append(base_frequency * 2)\n",
    "        \n",
    "    freq.sort()\n",
    "\n",
    "    return freq"
   ]
  },
  {
   "cell_type": "code",
   "execution_count": 26,
   "metadata": {},
   "outputs": [],
   "source": [
    "def make_scale(kind = 'minor', base_frequency = 440, halfsteps_in_a_scale = 12, tuning = 'equal_tempered'):\n",
    "    \"\"\"Parameters:\n",
    "            kind : str\n",
    "                'minor'\n",
    "                'major (melodic up, natural down)'\n",
    "                'harmonics'\n",
    "                \n",
    "            base_frequency : float\n",
    "                scale will start from this frequency, default A1 (440 Hz)\n",
    "                \n",
    "            halfsteps_in_a_scale : integer\n",
    "                number of halfsteps between the nearest octaves\n",
    "                \n",
    "            tuning : str\n",
    "                'equal_tempered'\n",
    "                'just_scale'\n",
    "                'perfect_fifths'\n",
    "    \"\"\"\n",
    "    if kind == 'harmonics':\n",
    "        halfsteps_list_up = range(halfsteps_in_a_scale+1)\n",
    "        halfsteps_list_down = halfsteps_list_up[::-1]\n",
    "    elif kind == 'major':\n",
    "        if halfsteps_in_a_scale !=12:\n",
    "            raise ValueError\n",
    "        else:\n",
    "            halfsteps_list_up = [0, 2, 4, 5, 7, 9, 11, 12]\n",
    "            halfsteps_list_down = halfsteps_list_up[::-1]\n",
    "    elif kind == 'minor':\n",
    "        if halfsteps_in_a_scale !=12:\n",
    "            raise ValueError\n",
    "        else:\n",
    "            halfsteps_list_up = [0, 2, 3, 5, 7, 9, 11, 12]\n",
    "            halfsteps_list_down = [0, 2, 3, 5, 7, 8, 10, 12][::-1]\n",
    "            \n",
    "    if tuning == 'equal_tempered':\n",
    "        frequencies_up = equal_tempered(\n",
    "                            base_frequency, \n",
    "                            halfsteps_away = halfsteps_list_up, \n",
    "                            halfsteps_in_a_scale = halfsteps_in_a_scale)\n",
    "\n",
    "        frequencies_down = equal_tempered(\n",
    "                        base_frequency, \n",
    "                        halfsteps_away = halfsteps_list_down, \n",
    "                        halfsteps_in_a_scale = halfsteps_in_a_scale)\n",
    "        \n",
    "    if tuning == 'just_scale':\n",
    "        if halfsteps_in_a_scale !=12:\n",
    "            raise ValueError\n",
    "        else:\n",
    "            frequencies_up = just_scale(\n",
    "                                base_frequency, \n",
    "                                halfsteps_away = halfsteps_list_up)\n",
    "            frequencies_down = just_scale(\n",
    "                                base_frequency, \n",
    "                                halfsteps_away = halfsteps_list_down)\n",
    "            \n",
    "    if tuning == 'perfect_fifths':\n",
    "        if halfsteps_in_a_scale !=12:\n",
    "            raise ValueError\n",
    "        else:\n",
    "            frequencies = perfect_fifths(\n",
    "                                base_frequency, \n",
    "                                n = 12)\n",
    "\n",
    "            frequencies_up = []\n",
    "            frequencies_down = []\n",
    "            \n",
    "            for indx in halfsteps_list_up:\n",
    "                freq_up = frequencies[indx]\n",
    "                frequencies_up.append(freq_up)\n",
    "            for indx in halfsteps_list_down:\n",
    "                freq_dn = frequencies[indx]\n",
    "                frequencies_down.append(freq_dn)\n",
    "        \n",
    "    up_then_down = frequencies_up + frequencies_down[1:]\n",
    "    \n",
    "    return frequencies_up, frequencies_down, up_then_down"
   ]
  },
  {
   "cell_type": "code",
   "execution_count": 27,
   "metadata": {},
   "outputs": [],
   "source": [
    "duration = 1.0\n",
    "\n",
    "# sine frequency, Hz, may be float\n",
    "\n",
    "base_frequency_C4 = 261.63\n",
    "# base_frequency_D4 = 293.66\n",
    "# base_frequency_G4 = 392.00\n",
    "# base_frequency_A4 = 440 #Hz\n",
    "\n",
    "# base_frequency = base_frequency_A4\n",
    "base_frequency = 261.63"
   ]
  },
  {
   "cell_type": "markdown",
   "metadata": {},
   "source": [
    "# Equal tempered"
   ]
  },
  {
   "cell_type": "code",
   "execution_count": 30,
   "metadata": {},
   "outputs": [],
   "source": [
    "duration = 2.\n",
    "\n",
    "# harmonics (12 half steps between two octaves, with an octave being 2*f)\n",
    "frequencies_up, frequencies_down, up_then_down = make_scale(\n",
    "    kind='harmonics', base_frequency = base_frequency, tuning = 'equal_tempered')\n",
    "\n",
    "play_frequencies(p, fs, volume, freq = up_then_down)"
   ]
  },
  {
   "cell_type": "code",
   "execution_count": 32,
   "metadata": {},
   "outputs": [
    {
     "data": {
      "text/plain": [
       "[261.63,\n",
       " 293.66974569918125,\n",
       " 329.6331442839957,\n",
       " 349.23415104650616,\n",
       " 392.0020805232463,\n",
       " 440.0074582456588,\n",
       " 493.8916728538232,\n",
       " 523.2600000000002,\n",
       " 493.8916728538232,\n",
       " 440.0074582456588,\n",
       " 392.0020805232463,\n",
       " 349.23415104650616,\n",
       " 329.6331442839957,\n",
       " 293.66974569918125,\n",
       " 261.63]"
      ]
     },
     "execution_count": 32,
     "metadata": {},
     "output_type": "execute_result"
    }
   ],
   "source": [
    "# major scale\n",
    "frequencies_up, frequencies_down, up_then_down = make_scale(\n",
    "    kind='major', base_frequency = base_frequency, tuning = 'equal_tempered')\n",
    "\n",
    "play_frequencies(p, fs, volume, freq = up_then_down)\n",
    "up_then_down"
   ]
  },
  {
   "cell_type": "code",
   "execution_count": 33,
   "metadata": {},
   "outputs": [],
   "source": [
    "# minor scale\n",
    "frequencies_up, frequencies_down, up_then_down = make_scale(\n",
    "    kind='minor', base_frequency = base_frequency, tuning = 'equal_tempered')\n",
    "\n",
    "play_frequencies(p, fs, volume, freq = up_then_down)"
   ]
  },
  {
   "cell_type": "markdown",
   "metadata": {},
   "source": [
    "# [Just scale](https://pages.mtu.edu/~suits/overtone.html)"
   ]
  },
  {
   "cell_type": "code",
   "execution_count": 34,
   "metadata": {},
   "outputs": [],
   "source": [
    "duration = 1.\n",
    "\n",
    "# harmonics (12 half steps between two octaves, with an octave being 2*f)\n",
    "frequencies_up, frequencies_down, up_then_down = make_scale(\n",
    "    kind='harmonics', base_frequency = base_frequency, tuning = 'just_scale')\n",
    "\n",
    "play_frequencies(p, fs, volume, freq = up_then_down)"
   ]
  },
  {
   "cell_type": "code",
   "execution_count": 35,
   "metadata": {},
   "outputs": [
    {
     "data": {
      "text/plain": [
       "[261.63,\n",
       " 294.33375,\n",
       " 327.0375,\n",
       " 348.84,\n",
       " 392.445,\n",
       " 436.05,\n",
       " 490.55625,\n",
       " 523.26,\n",
       " 490.55625,\n",
       " 436.05,\n",
       " 392.445,\n",
       " 348.84,\n",
       " 327.0375,\n",
       " 294.33375,\n",
       " 261.63]"
      ]
     },
     "execution_count": 35,
     "metadata": {},
     "output_type": "execute_result"
    }
   ],
   "source": [
    "# major scale\n",
    "frequencies_up, frequencies_down, up_then_down = make_scale(\n",
    "    kind='major', base_frequency = base_frequency, tuning = 'just_scale')\n",
    "\n",
    "play_frequencies(p, fs, volume, freq = up_then_down)\n",
    "up_then_down"
   ]
  },
  {
   "cell_type": "code",
   "execution_count": 36,
   "metadata": {},
   "outputs": [],
   "source": [
    "# minor scale\n",
    "frequencies_up, frequencies_down, up_then_down = make_scale(\n",
    "    kind='minor', base_frequency = base_frequency, tuning = 'just_scale')\n",
    "\n",
    "play_frequencies(p, fs, volume, freq = up_then_down)"
   ]
  },
  {
   "cell_type": "markdown",
   "metadata": {},
   "source": [
    "# Perfect Fifths"
   ]
  },
  {
   "cell_type": "code",
   "execution_count": 37,
   "metadata": {},
   "outputs": [],
   "source": [
    "duration = 1.\n",
    "\n",
    "# harmonics (12 half steps between two octaves, with an octave being 2*f)\n",
    "frequencies_up, frequencies_down, up_then_down = make_scale(\n",
    "    kind='harmonics', base_frequency = base_frequency, tuning = 'perfect_fifths')\n",
    "\n",
    "play_frequencies(p, fs, volume, freq = up_then_down)"
   ]
  },
  {
   "cell_type": "code",
   "execution_count": 38,
   "metadata": {},
   "outputs": [
    {
     "data": {
      "text/plain": [
       "[261.63,\n",
       " 294.33375,\n",
       " 331.12546875,\n",
       " 353.59931648254394,\n",
       " 392.445,\n",
       " 441.500625,\n",
       " 496.688203125,\n",
       " 523.26,\n",
       " 496.688203125,\n",
       " 441.500625,\n",
       " 392.445,\n",
       " 353.59931648254394,\n",
       " 331.12546875,\n",
       " 294.33375,\n",
       " 261.63]"
      ]
     },
     "execution_count": 38,
     "metadata": {},
     "output_type": "execute_result"
    }
   ],
   "source": [
    "# harmonics (12 half steps between two octaves, with an octave being 2*f)\n",
    "frequencies_up, frequencies_down, up_then_down = make_scale(\n",
    "    kind='major', base_frequency = base_frequency, tuning = 'perfect_fifths')\n",
    "\n",
    "play_frequencies(p, fs, volume, freq = up_then_down)\n",
    "up_then_down"
   ]
  },
  {
   "cell_type": "code",
   "execution_count": 39,
   "metadata": {},
   "outputs": [],
   "source": [
    "# harmonics (12 half steps between two octaves, with an octave being 2*f)\n",
    "frequencies_up, frequencies_down, up_then_down = make_scale(\n",
    "    kind='minor', base_frequency = base_frequency, tuning = 'perfect_fifths')\n",
    "\n",
    "play_frequencies(p, fs, volume, freq = up_then_down)"
   ]
  },
  {
   "cell_type": "markdown",
   "metadata": {},
   "source": [
    "# Experimental "
   ]
  },
  {
   "cell_type": "code",
   "execution_count": 40,
   "metadata": {},
   "outputs": [],
   "source": [
    "# what if there were more halfsteps in a scale\n",
    "\n",
    "duration = .5\n",
    "\n",
    "# harmonics\n",
    "frequencies_up, frequencies_down, up_then_down = make_scale(\n",
    "    kind='harmonics', base_frequency = base_frequency, halfsteps_in_a_scale = 20, tuning = 'equal_tempered')\n",
    "\n",
    "play_frequencies(p, fs, volume, freq = up_then_down)"
   ]
  },
  {
   "cell_type": "code",
   "execution_count": 41,
   "metadata": {},
   "outputs": [],
   "source": [
    "# overtone series\n",
    "# https://pages.mtu.edu/~suits/overtone.html\n",
    "\n",
    "duration = 3.5\n",
    "base_frequency = 131\n",
    "\n",
    "play_frequencies(p, fs, volume, freq = [base_frequency, 2*base_frequency, \n",
    "                                        3*base_frequency, 4*base_frequency, \n",
    "                                        5*base_frequency, 6*base_frequency, \n",
    "                                        7*base_frequency,\n",
    "                                        # just for fun\n",
    "                                        8*base_frequency,\n",
    "                                        9*base_frequency, 10*base_frequency,\n",
    "                                        11*base_frequency, 12*base_frequency])"
   ]
  },
  {
   "cell_type": "code",
   "execution_count": 14,
   "metadata": {},
   "outputs": [
    {
     "data": {
      "text/plain": [
       "[1.0,\n",
       " 1.0416666666666667,\n",
       " 1.125,\n",
       " 1.2,\n",
       " 1.25,\n",
       " 1.3333333333333333,\n",
       " 1.40625,\n",
       " 1.5,\n",
       " 1.6,\n",
       " 1.6666666666666667,\n",
       " 1.8,\n",
       " 1.875,\n",
       " 2.0]"
      ]
     },
     "execution_count": 14,
     "metadata": {},
     "output_type": "execute_result"
    }
   ],
   "source": [
    "# harmonics\n",
    "[1., 25./24., 9./8., 6./5., 5./4., 4./3., 45./32., 3./2., 8./5., 5./3., 9./5., 15./8., 2.]"
   ]
  },
  {
   "cell_type": "code",
   "execution_count": null,
   "metadata": {},
   "outputs": [],
   "source": []
  }
 ],
 "metadata": {
  "kernelspec": {
   "display_name": "Python 36 LCC",
   "language": "python",
   "name": "py36lcc"
  },
  "language_info": {
   "codemirror_mode": {
    "name": "ipython",
    "version": 3
   },
   "file_extension": ".py",
   "mimetype": "text/x-python",
   "name": "python",
   "nbconvert_exporter": "python",
   "pygments_lexer": "ipython3",
   "version": "3.7.3"
  }
 },
 "nbformat": 4,
 "nbformat_minor": 4
}
